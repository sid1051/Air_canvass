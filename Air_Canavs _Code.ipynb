{
 "cells": [
  {
   "cell_type": "markdown",
   "id": "761278b9",
   "metadata": {},
   "source": [
    "## AIR CANVAS\n"
   ]
  },
  {
   "cell_type": "markdown",
   "id": "e3615a6d",
   "metadata": {},
   "source": [
    " Importing required libraries"
   ]
  },
  {
   "cell_type": "code",
   "execution_count": 2,
   "id": "3e85b2f1",
   "metadata": {},
   "outputs": [],
   "source": [
    "import numpy as np\n",
    "import cv2\n",
    "from collections import deque"
   ]
  },
  {
   "cell_type": "markdown",
   "id": "9eb0551a",
   "metadata": {},
   "source": [
    " Creating the trackbars needed for adjusting the marker colour"
   ]
  },
  {
   "cell_type": "code",
   "execution_count": 4,
   "id": "ed4651fe",
   "metadata": {},
   "outputs": [],
   "source": [
    "def setValues(x):\n",
    "   print(\"\")\n",
    "\n",
    "cv2.namedWindow(\"Color detectors\")\n",
    "cv2.createTrackbar(\"Upper Hue\", \"Color detectors\", 153, 180,setValues)\n",
    "cv2.createTrackbar(\"Upper Saturation\", \"Color detectors\", 255, 255,setValues)\n",
    "cv2.createTrackbar(\"Upper Value\", \"Color detectors\", 255, 255,setValues)\n",
    "cv2.createTrackbar(\"Lower Hue\", \"Color detectors\", 64, 180,setValues)\n",
    "cv2.createTrackbar(\"Lower Saturation\", \"Color detectors\", 72, 255,setValues)\n",
    "cv2.createTrackbar(\"Lower Value\", \"Color detectors\", 49, 255,setValues)"
   ]
  },
  {
   "cell_type": "markdown",
   "id": "42cc95b3",
   "metadata": {},
   "source": [
    "Creating four array of deques which will store points corresponding points\n"
   ]
  },
  {
   "cell_type": "code",
   "execution_count": 6,
   "id": "b6164f59",
   "metadata": {},
   "outputs": [],
   "source": [
    "bpoints = [deque(maxlen=1024)]\n",
    "gpoints = [deque(maxlen=1024)]\n",
    "rpoints = [deque(maxlen=1024)]\n",
    "ypoints = [deque(maxlen=1024)]"
   ]
  },
  {
   "cell_type": "markdown",
   "id": "0bc7a6a0",
   "metadata": {},
   "source": [
    "Defining indexes for storing the points in correct deques for each colour\n"
   ]
  },
  {
   "cell_type": "code",
   "execution_count": 7,
   "id": "d068bcef",
   "metadata": {},
   "outputs": [],
   "source": [
    "blue_index = 0\n",
    "green_index = 0\n",
    "red_index = 0\n",
    "yellow_index = 0"
   ]
  },
  {
   "cell_type": "markdown",
   "id": "9df7fad8",
   "metadata": {},
   "source": [
    "Creating kernel for masking\n",
    "\n",
    "Creating color array for color palette"
   ]
  },
  {
   "cell_type": "code",
   "execution_count": 8,
   "id": "27f44d0f",
   "metadata": {},
   "outputs": [],
   "source": [
    "kernel = np.ones((5,5),np.uint8)\n",
    "\n",
    "colors = [(255, 0, 0), (0, 255, 0), (0, 0, 255), (0, 255, 255)]\n",
    "colorIndex = 0"
   ]
  },
  {
   "cell_type": "markdown",
   "id": "66a7818c",
   "metadata": {},
   "source": [
    "Setting the paint window and creating boxes for different colors"
   ]
  },
  {
   "cell_type": "code",
   "execution_count": 9,
   "id": "155f4989",
   "metadata": {},
   "outputs": [],
   "source": [
    "paintWindow = np.zeros((471,636,3)) + 255\n",
    "paintWindow = cv2.rectangle(paintWindow, (40,1), (140,65), (0,0,0), 2)\n",
    "paintWindow = cv2.rectangle(paintWindow, (160,1), (255,65), colors[0], -1)\n",
    "paintWindow = cv2.rectangle(paintWindow, (275,1), (370,65), colors[1], -1)\n",
    "paintWindow = cv2.rectangle(paintWindow, (390,1), (485,65), colors[2], -1)\n",
    "paintWindow = cv2.rectangle(paintWindow, (505,1), (600,65), colors[3], -1)\n",
    "\n",
    "cv2.putText(paintWindow, \"CLEAR\", (49, 33), cv2.FONT_HERSHEY_DUPLEX, 0.5, (0, 0, 0), 2, cv2.LINE_AA)\n",
    "cv2.putText(paintWindow, \"BLUE\", (185, 33), cv2.FONT_ITALIC, 0.5, (255, 255, 255), 2, cv2.LINE_AA)\n",
    "cv2.putText(paintWindow, \"GREEN\", (298, 33), cv2.FONT_ITALIC, 0.5, (255, 255, 255), 2, cv2.LINE_AA)\n",
    "cv2.putText(paintWindow, \"RED\", (420, 33), cv2.FONT_ITALIC, 0.5, (255, 255, 255), 2, cv2.LINE_AA)\n",
    "cv2.putText(paintWindow, \"YELLOW\", (520, 33), cv2.FONT_ITALIC, 0.5, (150,150,150), 2, cv2.LINE_AA)\n",
    "cv2.namedWindow('Paint', cv2.WINDOW_AUTOSIZE)"
   ]
  },
  {
   "cell_type": "markdown",
   "id": "303d3656",
   "metadata": {},
   "source": [
    "Setting up frame window and creating boxes for different colors\n",
    "\n",
    "Creating mask for position detection of marker bead\n",
    "\n",
    "Taking center of countour into account and then deciding accordingly for each point\n",
    "\n",
    "And finally joining the all centers with their respected colors to obtain the final image\n",
    "\n",
    "Finallly releasing the camera and all resources after exiting from the above loop \n"
   ]
  },
  {
   "cell_type": "code",
   "execution_count": 10,
   "id": "292bcba4",
   "metadata": {},
   "outputs": [],
   "source": [
    "cap = cv2.VideoCapture(0)\n",
    "\n",
    "while True:\n",
    "    ret, frame = cap.read()\n",
    "    #Flipping the frame \n",
    "    frame = cv2.flip(frame, 1)\n",
    "    hsv = cv2.cvtColor(frame, cv2.COLOR_BGR2HSV)\n",
    "\n",
    "\n",
    "    u_hue = cv2.getTrackbarPos(\"Upper Hue\", \"Color detectors\")\n",
    "    u_saturation = cv2.getTrackbarPos(\"Upper Saturation\", \"Color detectors\")\n",
    "    u_value = cv2.getTrackbarPos(\"Upper Value\", \"Color detectors\")\n",
    "    l_hue = cv2.getTrackbarPos(\"Lower Hue\", \"Color detectors\")\n",
    "    l_saturation = cv2.getTrackbarPos(\"Lower Saturation\", \"Color detectors\")\n",
    "    l_value = cv2.getTrackbarPos(\"Lower Value\", \"Color detectors\")\n",
    "    Upper_hsv = np.array([u_hue,u_saturation,u_value])\n",
    "    Lower_hsv = np.array([l_hue,l_saturation,l_value])\n",
    "\n",
    "    frame = cv2.rectangle(frame, (40,1), (140,65), (122,122,122), -1)\n",
    "    frame = cv2.rectangle(frame, (160,1), (255,65), colors[0], -1)\n",
    "    frame = cv2.rectangle(frame, (275,1), (370,65), colors[1], -1)\n",
    "    frame = cv2.rectangle(frame, (390,1), (485,65), colors[2], -1)\n",
    "    frame = cv2.rectangle(frame, (505,1), (600,65), colors[3], -1)\n",
    "    cv2.putText(frame, \"CLEAR ALL\", (49, 33), cv2.FONT_HERSHEY_SIMPLEX, 0.5, (255, 255, 255), 2, cv2.LINE_AA)\n",
    "    cv2.putText(frame, \"BLUE\", (185, 33), cv2.FONT_HERSHEY_SIMPLEX, 0.5, (255, 255, 255), 2, cv2.LINE_AA)\n",
    "    cv2.putText(frame, \"GREEN\", (298, 33), cv2.FONT_HERSHEY_SIMPLEX, 0.5, (255, 255, 255), 2, cv2.LINE_AA)\n",
    "    cv2.putText(frame, \"RED\", (420, 33), cv2.FONT_HERSHEY_SIMPLEX, 0.5, (255, 255, 255), 2, cv2.LINE_AA)\n",
    "    cv2.putText(frame, \"YELLOW\", (520, 33), cv2.FONT_HERSHEY_SIMPLEX, 0.5, (150,150,150), 2, cv2.LINE_AA)\n",
    "\n",
    "    Mask = cv2.inRange(hsv, Lower_hsv, Upper_hsv)\n",
    "    Mask = cv2.erode(Mask, kernel, iterations=1)\n",
    "    Mask = cv2.morphologyEx(Mask, cv2.MORPH_OPEN, kernel)\n",
    "    Mask = cv2.dilate(Mask, kernel, iterations=1)\n",
    "\n",
    "    cnts,_ = cv2.findContours(Mask.copy(), cv2.RETR_EXTERNAL,\n",
    "    \tcv2.CHAIN_APPROX_SIMPLE)\n",
    "    center = None\n",
    "\n",
    "    \n",
    "    if len(cnts) > 0:\n",
    "    \n",
    "        cnt = sorted(cnts, key = cv2.contourArea, reverse = True)[0]\n",
    "        \n",
    "        ((x, y), radius) = cv2.minEnclosingCircle(cnt)\n",
    "     \n",
    "        cv2.circle(frame, (int(x), int(y)), int(radius), (0, 255, 255), 2)\n",
    "   \n",
    "        M = cv2.moments(cnt)\n",
    "        center = (int(M['m10'] / M['m00']), int(M['m01'] / M['m00']))\n",
    "\n",
    "  \n",
    "        if center[1] <= 65:\n",
    "            if 40 <= center[0] <= 140: # Clear Button\n",
    "                bpoints = [deque(maxlen=512)]\n",
    "                gpoints = [deque(maxlen=512)]\n",
    "                rpoints = [deque(maxlen=512)]\n",
    "                ypoints = [deque(maxlen=512)]\n",
    "\n",
    "                blue_index = 0\n",
    "                green_index = 0\n",
    "                red_index = 0\n",
    "                yellow_index = 0\n",
    "\n",
    "                paintWindow[67:,:,:] = 255\n",
    "            elif 160 <= center[0] <= 255:\n",
    "                    colorIndex = 0 # Blue\n",
    "            elif 275 <= center[0] <= 370:\n",
    "                    colorIndex = 1 # Green\n",
    "            elif 390 <= center[0] <= 485:\n",
    "                    colorIndex = 2 # Red\n",
    "            elif 505 <= center[0] <= 600:\n",
    "                    colorIndex = 3 # Yellow\n",
    "        else :\n",
    "            if colorIndex == 0:\n",
    "                bpoints[blue_index].appendleft(center)\n",
    "            elif colorIndex == 1:\n",
    "                gpoints[green_index].appendleft(center)\n",
    "            elif colorIndex == 2:\n",
    "                rpoints[red_index].appendleft(center)\n",
    "            elif colorIndex == 3:\n",
    "                ypoints[yellow_index].appendleft(center)\n",
    "    else:\n",
    "        bpoints.append(deque(maxlen=512))\n",
    "        blue_index += 1\n",
    "        gpoints.append(deque(maxlen=512))\n",
    "        green_index += 1\n",
    "        rpoints.append(deque(maxlen=512))\n",
    "        red_index += 1\n",
    "        ypoints.append(deque(maxlen=512))\n",
    "        yellow_index += 1\n",
    "\n",
    "    points = [bpoints, gpoints, rpoints, ypoints]\n",
    "    for i in range(len(points)):\n",
    "        for j in range(len(points[i])):\n",
    "            for k in range(1, len(points[i][j])):\n",
    "                if points[i][j][k - 1] is None or points[i][j][k] is None:\n",
    "                    continue\n",
    "                cv2.line(frame, points[i][j][k - 1], points[i][j][k], colors[i], 2)\n",
    "                cv2.line(paintWindow, points[i][j][k - 1], points[i][j][k], colors[i], 2)\n",
    "\n",
    "\n",
    "    cv2.imshow(\"Tracking\", frame)\n",
    "    cv2.imshow(\"Paint\", paintWindow)\n",
    "    cv2.imshow(\"mask\",Mask)\n",
    "\n",
    "\n",
    "    if cv2.waitKey(1) & 0xFF == ord(\"q\"):\n",
    "        break\n",
    "        \n",
    "cap.release()\n",
    "cv2.destroyAllWindows()        "
   ]
  }
 ],
 "metadata": {
  "kernelspec": {
   "display_name": "Python 3",
   "language": "python",
   "name": "python3"
  },
  "language_info": {
   "codemirror_mode": {
    "name": "ipython",
    "version": 3
   },
   "file_extension": ".py",
   "mimetype": "text/x-python",
   "name": "python",
   "nbconvert_exporter": "python",
   "pygments_lexer": "ipython3",
   "version": "3.7.6"
  }
 },
 "nbformat": 4,
 "nbformat_minor": 5
}
